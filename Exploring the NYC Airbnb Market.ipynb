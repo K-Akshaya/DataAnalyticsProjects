{
 "cells": [
  {
   "cell_type": "code",
   "execution_count": 6,
   "id": "9e54e4d1",
   "metadata": {},
   "outputs": [],
   "source": [
    "import pandas as pd\n",
    "import numpy as np\n",
    "import datetime as dt\n",
    "import openpyxl as xls"
   ]
  },
  {
   "cell_type": "code",
   "execution_count": 7,
   "id": "fe0944ef",
   "metadata": {},
   "outputs": [
    {
     "data": {
      "text/html": [
       "<div>\n",
       "<style scoped>\n",
       "    .dataframe tbody tr th:only-of-type {\n",
       "        vertical-align: middle;\n",
       "    }\n",
       "\n",
       "    .dataframe tbody tr th {\n",
       "        vertical-align: top;\n",
       "    }\n",
       "\n",
       "    .dataframe thead th {\n",
       "        text-align: right;\n",
       "    }\n",
       "</style>\n",
       "<table border=\"1\" class=\"dataframe\">\n",
       "  <thead>\n",
       "    <tr style=\"text-align: right;\">\n",
       "      <th></th>\n",
       "      <th>listing_id</th>\n",
       "      <th>price</th>\n",
       "      <th>nbhood_full</th>\n",
       "    </tr>\n",
       "  </thead>\n",
       "  <tbody>\n",
       "    <tr>\n",
       "      <th>0</th>\n",
       "      <td>2595</td>\n",
       "      <td>225 dollars</td>\n",
       "      <td>Manhattan, Midtown</td>\n",
       "    </tr>\n",
       "    <tr>\n",
       "      <th>1</th>\n",
       "      <td>3831</td>\n",
       "      <td>89 dollars</td>\n",
       "      <td>Brooklyn, Clinton Hill</td>\n",
       "    </tr>\n",
       "    <tr>\n",
       "      <th>2</th>\n",
       "      <td>5099</td>\n",
       "      <td>200 dollars</td>\n",
       "      <td>Manhattan, Murray Hill</td>\n",
       "    </tr>\n",
       "    <tr>\n",
       "      <th>3</th>\n",
       "      <td>5178</td>\n",
       "      <td>79 dollars</td>\n",
       "      <td>Manhattan, Hell's Kitchen</td>\n",
       "    </tr>\n",
       "    <tr>\n",
       "      <th>4</th>\n",
       "      <td>5238</td>\n",
       "      <td>150 dollars</td>\n",
       "      <td>Manhattan, Chinatown</td>\n",
       "    </tr>\n",
       "  </tbody>\n",
       "</table>\n",
       "</div>"
      ],
      "text/plain": [
       "   listing_id        price                nbhood_full\n",
       "0        2595  225 dollars         Manhattan, Midtown\n",
       "1        3831   89 dollars     Brooklyn, Clinton Hill\n",
       "2        5099  200 dollars     Manhattan, Murray Hill\n",
       "3        5178   79 dollars  Manhattan, Hell's Kitchen\n",
       "4        5238  150 dollars       Manhattan, Chinatown"
      ]
     },
     "execution_count": 7,
     "metadata": {},
     "output_type": "execute_result"
    }
   ],
   "source": [
    "prices=pd.read_csv(r'C:\\data analyst project data\\airbnb_price.csv')\n",
    "prices.head()"
   ]
  },
  {
   "cell_type": "code",
   "execution_count": 8,
   "id": "a4d16906",
   "metadata": {},
   "outputs": [],
   "source": [
    "room_type=pd.read_excel(r'C:\\data analyst project data\\airbnb_room_type (2).xlsx')"
   ]
  },
  {
   "cell_type": "code",
   "execution_count": 9,
   "id": "3e942eb5",
   "metadata": {},
   "outputs": [],
   "source": [
    "reviews=pd.read_csv(r'C:\\data analyst project data\\airbnb_last_review.tsv',sep=\"\\t\")"
   ]
  },
  {
   "cell_type": "code",
   "execution_count": 10,
   "id": "b30b86b0",
   "metadata": {},
   "outputs": [
    {
     "name": "stdout",
     "output_type": "stream",
     "text": [
      "   listing_id        price                nbhood_full\n",
      "0        2595  225 dollars         Manhattan, Midtown\n",
      "1        3831   89 dollars     Brooklyn, Clinton Hill\n",
      "2        5099  200 dollars     Manhattan, Murray Hill\n",
      "3        5178   79 dollars  Manhattan, Hell's Kitchen\n",
      "4        5238  150 dollars       Manhattan, Chinatown \n",
      "    listing_id                                description        room_type\n",
      "0        2595                      Skylit Midtown Castle  Entire home/apt\n",
      "1        3831            Cozy Entire Floor of Brownstone  Entire home/apt\n",
      "2        5099  Large Cozy 1 BR Apartment In Midtown East  Entire home/apt\n",
      "3        5178            Large Furnished Room Near B'way     private room\n",
      "4        5238         Cute & Cozy Lower East Side 1 bdrm  Entire home/apt \n",
      "    listing_id    host_name   last_review\n",
      "0        2595     Jennifer   May 21 2019\n",
      "1        3831  LisaRoxanne  July 05 2019\n",
      "2        5099        Chris  June 22 2019\n",
      "3        5178     Shunichi  June 24 2019\n",
      "4        5238          Ben  June 09 2019\n"
     ]
    }
   ],
   "source": [
    "print(prices.head(),\"\\n\",room_type.head(),\"\\n\",reviews.head())"
   ]
  },
  {
   "cell_type": "markdown",
   "id": "8e0e1b66",
   "metadata": {},
   "source": [
    "# Cleaning the price column"
   ]
  },
  {
   "cell_type": "code",
   "execution_count": 11,
   "id": "44780a94",
   "metadata": {},
   "outputs": [],
   "source": [
    "prices[\"price\"]=prices[\"price\"].str.replace(\"dollars\",\"\")\n"
   ]
  },
  {
   "cell_type": "code",
   "execution_count": 12,
   "id": "663f35d9",
   "metadata": {},
   "outputs": [],
   "source": [
    "prices[\"price\"]=pd.to_numeric(prices[\"price\"])"
   ]
  },
  {
   "cell_type": "code",
   "execution_count": 13,
   "id": "ed799449",
   "metadata": {},
   "outputs": [
    {
     "name": "stdout",
     "output_type": "stream",
     "text": [
      "count    25209.000000\n",
      "mean       141.777936\n",
      "std        147.349137\n",
      "min          0.000000\n",
      "25%         69.000000\n",
      "50%        105.000000\n",
      "75%        175.000000\n",
      "max       7500.000000\n",
      "Name: price, dtype: float64\n"
     ]
    }
   ],
   "source": [
    "print(prices[\"price\"].describe())"
   ]
  },
  {
   "cell_type": "markdown",
   "id": "259784c9",
   "metadata": {},
   "source": [
    "# Calculating average price"
   ]
  },
  {
   "cell_type": "code",
   "execution_count": 14,
   "id": "1ebba878",
   "metadata": {},
   "outputs": [],
   "source": [
    "free_listing=prices[\"price\"]==0\n"
   ]
  },
  {
   "cell_type": "code",
   "execution_count": 15,
   "id": "351cbd17",
   "metadata": {},
   "outputs": [],
   "source": [
    "prices=prices.loc[~free_listing]"
   ]
  },
  {
   "cell_type": "code",
   "execution_count": 16,
   "id": "db19ac33",
   "metadata": {},
   "outputs": [],
   "source": [
    "avg_price=round(prices[\"price\"].mean(),2)"
   ]
  },
  {
   "cell_type": "code",
   "execution_count": 17,
   "id": "f83c58dc",
   "metadata": {},
   "outputs": [
    {
     "name": "stdout",
     "output_type": "stream",
     "text": [
      "The average price per night for an Airbnb listing in NYC $141.82.\n"
     ]
    }
   ],
   "source": [
    "print(\"The average price per night for an Airbnb listing in NYC ${}.\".format(avg_price))"
   ]
  },
  {
   "cell_type": "markdown",
   "id": "d3bb6b41",
   "metadata": {},
   "source": [
    "# Comparing costs to the private rental market"
   ]
  },
  {
   "cell_type": "code",
   "execution_count": 18,
   "id": "9d1a790b",
   "metadata": {},
   "outputs": [],
   "source": [
    "prices[\"price_per_month\"]=prices[\"price\"]*365/12"
   ]
  },
  {
   "cell_type": "code",
   "execution_count": 19,
   "id": "e0146673",
   "metadata": {},
   "outputs": [],
   "source": [
    "avg_price_per_month=round(prices[\"price_per_month\"].mean(),2)"
   ]
  },
  {
   "cell_type": "code",
   "execution_count": 20,
   "id": "8a0b9f8c",
   "metadata": {},
   "outputs": [
    {
     "name": "stdout",
     "output_type": "stream",
     "text": [
      "the average price per month for an Airbnb listing in NYC $4313.61 ,while in private market you would pay $3,100\n"
     ]
    }
   ],
   "source": [
    "print(\"the average price per month for an Airbnb listing in NYC ${} ,while in private market you would pay {}\".format(avg_price_per_month,\"$3,100\"))"
   ]
  },
  {
   "cell_type": "markdown",
   "id": "4ec3b615",
   "metadata": {},
   "source": [
    "# cleaning room type"
   ]
  },
  {
   "cell_type": "code",
   "execution_count": 21,
   "id": "3930603f",
   "metadata": {},
   "outputs": [],
   "source": [
    "\n",
    "room_type[\"room_type\"]=room_type[\"room_type\"].str.lower()"
   ]
  },
  {
   "cell_type": "code",
   "execution_count": 22,
   "id": "ff9416f9",
   "metadata": {},
   "outputs": [],
   "source": [
    "# Update the room_type column to category data type\n",
    "room_type[\"room_type\"]=room_type[\"room_type\"].astype(\"category\")"
   ]
  },
  {
   "cell_type": "code",
   "execution_count": 23,
   "id": "3a9e5b53",
   "metadata": {},
   "outputs": [
    {
     "name": "stdout",
     "output_type": "stream",
     "text": [
      "entire home/apt    13266\n",
      "private room       11356\n",
      "shared room          587\n",
      "Name: room_type, dtype: int64\n"
     ]
    }
   ],
   "source": [
    "room_frequencies=room_type[\"room_type\"].value_counts()\n",
    "print(room_frequencies)"
   ]
  },
  {
   "cell_type": "markdown",
   "id": "a317bad3",
   "metadata": {},
   "source": [
    "# viewing reviews"
   ]
  },
  {
   "cell_type": "code",
   "execution_count": 24,
   "id": "d560f1e2",
   "metadata": {},
   "outputs": [],
   "source": [
    "#changing the datatype of the last review column to datetime\n",
    "reviews[\"last_review\"]=pd.to_datetime(reviews[\"last_review\"])"
   ]
  },
  {
   "cell_type": "code",
   "execution_count": 25,
   "id": "5e5e9889",
   "metadata": {},
   "outputs": [],
   "source": [
    "first_reviewed=reviews[\"last_review\"].dt.date.min()"
   ]
  },
  {
   "cell_type": "code",
   "execution_count": 26,
   "id": "fd28b541",
   "metadata": {},
   "outputs": [],
   "source": [
    "last_reviewed=reviews[\"last_review\"].dt.date.max()"
   ]
  },
  {
   "cell_type": "code",
   "execution_count": 27,
   "id": "447fc66a",
   "metadata": {},
   "outputs": [
    {
     "name": "stdout",
     "output_type": "stream",
     "text": [
      "the earliest review of Airbnb is 2019-01-01,the latest review is 2019-07-09.\n"
     ]
    }
   ],
   "source": [
    "# Print the oldest and newest reviews from the DataFrame\n",
    "print(\"the earliest review of Airbnb is {},the latest review is {}.\".format(first_reviewed,last_reviewed))"
   ]
  },
  {
   "cell_type": "markdown",
   "id": "0bcc7c6c",
   "metadata": {},
   "source": [
    "# joining dataframe"
   ]
  },
  {
   "cell_type": "code",
   "execution_count": 33,
   "id": "1d1d5410",
   "metadata": {},
   "outputs": [
    {
     "name": "stdout",
     "output_type": "stream",
     "text": [
      "there is 0 duplicates in data\n"
     ]
    }
   ],
   "source": [
    "# Merge prices and room_types to create rooms_and_prices\n",
    "rooms_prices=prices.merge(room_type,how='outer',on='listing_id')\n",
    "\n",
    "# Merge rooms_and_prices with the reviews DataFrame to create airbnb_merged\n",
    "airbnb_merged=rooms_prices.merge(reviews,how=\"outer\",on='listing_id')\n",
    "\n",
    "# Drop missing values from airbnb_merged\n",
    "airbnb_merged.dropna(inplace=True)\n",
    "\n",
    "print(\"there is {} duplicates in data\".format(airbnb_merged.duplicated().sum()))\n"
   ]
  },
  {
   "cell_type": "code",
   "execution_count": 34,
   "id": "b1eaa274",
   "metadata": {},
   "outputs": [
    {
     "data": {
      "text/html": [
       "<div>\n",
       "<style scoped>\n",
       "    .dataframe tbody tr th:only-of-type {\n",
       "        vertical-align: middle;\n",
       "    }\n",
       "\n",
       "    .dataframe tbody tr th {\n",
       "        vertical-align: top;\n",
       "    }\n",
       "\n",
       "    .dataframe thead th {\n",
       "        text-align: right;\n",
       "    }\n",
       "</style>\n",
       "<table border=\"1\" class=\"dataframe\">\n",
       "  <thead>\n",
       "    <tr style=\"text-align: right;\">\n",
       "      <th></th>\n",
       "      <th>listing_id</th>\n",
       "      <th>price</th>\n",
       "      <th>nbhood_full</th>\n",
       "      <th>price_per_month</th>\n",
       "      <th>description</th>\n",
       "      <th>room_type</th>\n",
       "      <th>host_name</th>\n",
       "      <th>last_review</th>\n",
       "    </tr>\n",
       "  </thead>\n",
       "  <tbody>\n",
       "    <tr>\n",
       "      <th>0</th>\n",
       "      <td>2595</td>\n",
       "      <td>225.0</td>\n",
       "      <td>Manhattan, Midtown</td>\n",
       "      <td>6843.750000</td>\n",
       "      <td>Skylit Midtown Castle</td>\n",
       "      <td>entire home/apt</td>\n",
       "      <td>Jennifer</td>\n",
       "      <td>2019-05-21</td>\n",
       "    </tr>\n",
       "    <tr>\n",
       "      <th>1</th>\n",
       "      <td>3831</td>\n",
       "      <td>89.0</td>\n",
       "      <td>Brooklyn, Clinton Hill</td>\n",
       "      <td>2707.083333</td>\n",
       "      <td>Cozy Entire Floor of Brownstone</td>\n",
       "      <td>entire home/apt</td>\n",
       "      <td>LisaRoxanne</td>\n",
       "      <td>2019-07-05</td>\n",
       "    </tr>\n",
       "    <tr>\n",
       "      <th>2</th>\n",
       "      <td>5099</td>\n",
       "      <td>200.0</td>\n",
       "      <td>Manhattan, Murray Hill</td>\n",
       "      <td>6083.333333</td>\n",
       "      <td>Large Cozy 1 BR Apartment In Midtown East</td>\n",
       "      <td>entire home/apt</td>\n",
       "      <td>Chris</td>\n",
       "      <td>2019-06-22</td>\n",
       "    </tr>\n",
       "    <tr>\n",
       "      <th>3</th>\n",
       "      <td>5178</td>\n",
       "      <td>79.0</td>\n",
       "      <td>Manhattan, Hell's Kitchen</td>\n",
       "      <td>2402.916667</td>\n",
       "      <td>Large Furnished Room Near B'way</td>\n",
       "      <td>private room</td>\n",
       "      <td>Shunichi</td>\n",
       "      <td>2019-06-24</td>\n",
       "    </tr>\n",
       "    <tr>\n",
       "      <th>4</th>\n",
       "      <td>5238</td>\n",
       "      <td>150.0</td>\n",
       "      <td>Manhattan, Chinatown</td>\n",
       "      <td>4562.500000</td>\n",
       "      <td>Cute &amp; Cozy Lower East Side 1 bdrm</td>\n",
       "      <td>entire home/apt</td>\n",
       "      <td>Ben</td>\n",
       "      <td>2019-06-09</td>\n",
       "    </tr>\n",
       "  </tbody>\n",
       "</table>\n",
       "</div>"
      ],
      "text/plain": [
       "   listing_id  price                nbhood_full  price_per_month  \\\n",
       "0        2595  225.0         Manhattan, Midtown      6843.750000   \n",
       "1        3831   89.0     Brooklyn, Clinton Hill      2707.083333   \n",
       "2        5099  200.0     Manhattan, Murray Hill      6083.333333   \n",
       "3        5178   79.0  Manhattan, Hell's Kitchen      2402.916667   \n",
       "4        5238  150.0       Manhattan, Chinatown      4562.500000   \n",
       "\n",
       "                                 description        room_type    host_name  \\\n",
       "0                      Skylit Midtown Castle  entire home/apt     Jennifer   \n",
       "1            Cozy Entire Floor of Brownstone  entire home/apt  LisaRoxanne   \n",
       "2  Large Cozy 1 BR Apartment In Midtown East  entire home/apt        Chris   \n",
       "3            Large Furnished Room Near B'way     private room     Shunichi   \n",
       "4         Cute & Cozy Lower East Side 1 bdrm  entire home/apt          Ben   \n",
       "\n",
       "  last_review  \n",
       "0  2019-05-21  \n",
       "1  2019-07-05  \n",
       "2  2019-06-22  \n",
       "3  2019-06-24  \n",
       "4  2019-06-09  "
      ]
     },
     "execution_count": 34,
     "metadata": {},
     "output_type": "execute_result"
    }
   ],
   "source": [
    "airbnb_merged.head()"
   ]
  },
  {
   "cell_type": "markdown",
   "id": "1bcd923a",
   "metadata": {},
   "source": [
    "# Analysing listing prices by NYC borough\n"
   ]
  },
  {
   "cell_type": "code",
   "execution_count": 38,
   "id": "c08c23f6",
   "metadata": {},
   "outputs": [
    {
     "name": "stdout",
     "output_type": "stream",
     "text": [
      "                     sum    mean  count  median\n",
      "borough                                        \n",
      "Manhattan      1898417.0  184.04  10315   149.0\n",
      "Brooklyn       1275250.0  122.02  10451    95.0\n",
      "Queens          320715.0   92.83   3455    70.0\n",
      "Staten Island    22974.0   86.04    267    71.0\n",
      "Bronx            55156.0   79.25    696    65.0\n"
     ]
    }
   ],
   "source": [
    "\n",
    "# Extract information from the nbhood_full column and store as a new column, borough\n",
    "airbnb_merged[\"borough\"]=airbnb_merged[\"nbhood_full\"].str.partition(',')[0]\n",
    "\n",
    "# Group by borough and calculate summary statistics\n",
    "boroughs=airbnb_merged.groupby(\"borough\")[\"price\"].agg([\"sum\",\"mean\",\"count\",\"median\"])\n",
    "\n",
    "# Round boroughs to 2 decimal places, and sort by mean in descending order\n",
    "boroughs=boroughs.round(2).sort_values('mean',ascending=False)\n",
    "\n",
    "print(boroughs)"
   ]
  },
  {
   "cell_type": "markdown",
   "id": "e3f6fdb2",
   "metadata": {},
   "source": [
    "# Price range by borough"
   ]
  },
  {
   "cell_type": "code",
   "execution_count": 48,
   "id": "50b61295",
   "metadata": {},
   "outputs": [
    {
     "name": "stdout",
     "output_type": "stream",
     "text": [
      "borough        price_range\n",
      "Bronx          Budget          381\n",
      "               Average         285\n",
      "               Expensive        25\n",
      "               Extravagent       5\n",
      "Brooklyn       Budget         3194\n",
      "               Average        5532\n",
      "               Expensive      1466\n",
      "               Extravagent     259\n",
      "Manhattan      Budget         1148\n",
      "               Average        5285\n",
      "               Expensive      3072\n",
      "               Extravagent     810\n",
      "Queens         Budget         1631\n",
      "               Average        1505\n",
      "               Expensive       291\n",
      "               Extravagent      28\n",
      "Staten Island  Budget          124\n",
      "               Average         123\n",
      "               Expensive        20\n",
      "               Extravagent       0\n",
      "Name: price_range, dtype: int64\n"
     ]
    }
   ],
   "source": [
    "# Create labels for the price range, label_names\n",
    "lable_names=['Budget','Average','Expensive','Extravagent']\n",
    "\n",
    "# Create the label ranges, ranges\n",
    "ranges=[0,69,175,350,np.inf]\n",
    "\n",
    "# Insert new column, price_range, into DataFrame\n",
    "airbnb_merged[\"price_range\"]=pd.cut(airbnb_merged[\"price\"],bins=ranges,labels=lable_names)\n",
    "\n",
    "# Calculate borough and price_range frequencies, prices_by_borough\n",
    "prices_by_borough=airbnb_merged.groupby([\"borough\",\"price_range\"])[\"price_range\"].count()\n",
    "print(prices_by_borough)"
   ]
  },
  {
   "cell_type": "code",
   "execution_count": null,
   "id": "6a65d260",
   "metadata": {},
   "outputs": [],
   "source": []
  }
 ],
 "metadata": {
  "kernelspec": {
   "display_name": "Python 3 (ipykernel)",
   "language": "python",
   "name": "python3"
  },
  "language_info": {
   "codemirror_mode": {
    "name": "ipython",
    "version": 3
   },
   "file_extension": ".py",
   "mimetype": "text/x-python",
   "name": "python",
   "nbconvert_exporter": "python",
   "pygments_lexer": "ipython3",
   "version": "3.9.12"
  }
 },
 "nbformat": 4,
 "nbformat_minor": 5
}
