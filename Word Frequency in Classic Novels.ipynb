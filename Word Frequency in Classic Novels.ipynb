{
 "cells": [
  {
   "cell_type": "code",
   "execution_count": 12,
   "id": "e41c916d",
   "metadata": {},
   "outputs": [],
   "source": [
    "import requests\n",
    "from bs4 import BeautifulSoup\n",
    "import nltk\n",
    "from stop_words import get_stop_words\n",
    "from nltk.probability import FreqDist\n",
    "import matplotlib"
   ]
  },
  {
   "cell_type": "code",
   "execution_count": 13,
   "id": "a58491d8",
   "metadata": {},
   "outputs": [],
   "source": [
    "r=requests.get(\"https://www.gutenberg.org/cache/epub/2701/pg2701-images.html#link2HCH0002\")\n"
   ]
  },
  {
   "cell_type": "code",
   "execution_count": null,
   "id": "181a653a",
   "metadata": {},
   "outputs": [],
   "source": [
    "soup=BeautifulSoup(r.content,\"lxml\")\n",
    "text=soup.get_text()\n",
    "print(text)\n",
    "text[32000:34000]"
   ]
  },
  {
   "cell_type": "markdown",
   "id": "e7ea0fd9",
   "metadata": {},
   "source": [
    "# Extract the words"
   ]
  },
  {
   "cell_type": "code",
   "execution_count": 15,
   "id": "5f1e44ef",
   "metadata": {},
   "outputs": [
    {
     "data": {
      "text/plain": [
       "['Dick', 'Or', 'the', 'Whale', 'by', 'Herman']"
      ]
     },
     "execution_count": 15,
     "metadata": {},
     "output_type": "execute_result"
    }
   ],
   "source": [
    "tokenizers=nltk.tokenize.RegexpTokenizer(pattern='\\w+')\n",
    "tokens=tokenizers.tokenize(text=text)\n",
    "tokens[6:12]"
   ]
  },
  {
   "cell_type": "code",
   "execution_count": 16,
   "id": "79323a42",
   "metadata": {},
   "outputs": [
    {
     "data": {
      "text/plain": [
       "['dick', 'or', 'the', 'whale', 'by', 'herman']"
      ]
     },
     "execution_count": 16,
     "metadata": {},
     "output_type": "execute_result"
    }
   ],
   "source": [
    "words=[token.lower() for token in tokens]\n",
    "words[6:12]"
   ]
  },
  {
   "cell_type": "markdown",
   "id": "7b517356",
   "metadata": {},
   "source": [
    "# Load in stop words"
   ]
  },
  {
   "cell_type": "code",
   "execution_count": 17,
   "id": "ed45a34a",
   "metadata": {},
   "outputs": [
    {
     "data": {
      "text/plain": [
       "['a', 'about', 'above', 'after', 'again', 'against', 'all', 'am']"
      ]
     },
     "execution_count": 17,
     "metadata": {},
     "output_type": "execute_result"
    }
   ],
   "source": [
    "sw=get_stop_words('english')\n",
    "sw[:8]"
   ]
  },
  {
   "cell_type": "markdown",
   "id": "f3cd413c",
   "metadata": {},
   "source": [
    "# Remove stop words in Moby Dick"
   ]
  },
  {
   "cell_type": "code",
   "execution_count": 18,
   "id": "9b823629",
   "metadata": {},
   "outputs": [
    {
     "data": {
      "text/plain": [
       "['project', 'gutenberg', 'ebook', 'moby', 'dick']"
      ]
     },
     "execution_count": 18,
     "metadata": {},
     "output_type": "execute_result"
    }
   ],
   "source": [
    "word_ns=[word for word in words if word not in sw]\n",
    "word_ns[:5]"
   ]
  },
  {
   "cell_type": "markdown",
   "id": "33062ccb",
   "metadata": {},
   "source": [
    "# frequent word"
   ]
  },
  {
   "cell_type": "code",
   "execution_count": 19,
   "id": "ad533f0d",
   "metadata": {},
   "outputs": [],
   "source": [
    "%matplotlib inline\n",
    "freqdist=nltk.FreqDist(word_ns)"
   ]
  },
  {
   "cell_type": "code",
   "execution_count": 20,
   "id": "5bb6746a",
   "metadata": {},
   "outputs": [
    {
     "data": {
      "image/png": "[encoded data removed]",
      "text/plain": [
       "<Figure size 432x288 with 1 Axes>"
      ]
     },
     "metadata": {
      "needs_background": "light"
     },
     "output_type": "display_data"
    },
    {
     "data": {
      "text/plain": [
       "<AxesSubplot:xlabel='Samples', ylabel='Counts'>"
      ]
     },
     "execution_count": 20,
     "metadata": {},
     "output_type": "execute_result"
    }
   ],
   "source": [
    "freqdist.plot(30)"
   ]
  },
  {
   "cell_type": "markdown",
   "id": "9b71e593",
   "metadata": {},
   "source": [
    "# The most common word is"
   ]
  },
  {
   "cell_type": "code",
   "execution_count": 21,
   "id": "ec23988f",
   "metadata": {},
   "outputs": [],
   "source": [
    "# What's the most common word in Moby Dick?from the above result\n",
    "most_common_word = 'whale'"
   ]
  }
 ],
 "metadata": {
  "kernelspec": {
   "display_name": "Python 3 (ipykernel)",
   "language": "python",
   "name": "python3"
  },
  "language_info": {
   "codemirror_mode": {
    "name": "ipython",
    "version": 3
   },
   "file_extension": ".py",
   "mimetype": "text/x-python",
   "name": "python",
   "nbconvert_exporter": "python",
   "pygments_lexer": "ipython3",
   "version": "3.9.12"
  }
 },
 "nbformat": 4,
 "nbformat_minor": 5
}
